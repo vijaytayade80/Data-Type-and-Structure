{
 "cells": [
  {
   "cell_type": "markdown",
   "metadata": {},
   "source": [
    "**Data Types and Structures Practicle Questions**"
   ]
  },
  {
   "cell_type": "code",
   "execution_count": 1,
   "metadata": {},
   "outputs": [
    {
     "name": "stdout",
     "output_type": "stream",
     "text": [
      "John Doe\n"
     ]
    }
   ],
   "source": [
    "#question 1. Create a string with your name and print it\n",
    "name = \"John Doe\"\n",
    "print(name)"
   ]
  },
  {
   "cell_type": "code",
   "execution_count": 2,
   "metadata": {},
   "outputs": [
    {
     "name": "stdout",
     "output_type": "stream",
     "text": [
      "11\n"
     ]
    }
   ],
   "source": [
    "#Question 2. Find the length of the string \"Hello World\"\n",
    "print(len(\"Hello World\"))"
   ]
  },
  {
   "cell_type": "code",
   "execution_count": 3,
   "metadata": {},
   "outputs": [
    {
     "name": "stdout",
     "output_type": "stream",
     "text": [
      "Pyt\n"
     ]
    }
   ],
   "source": [
    "# Question 3. Slice the first 3 characters from the string \"Python Programming\"\n",
    "print(\"Python Programming\"[:3])"
   ]
  },
  {
   "cell_type": "code",
   "execution_count": 4,
   "metadata": {},
   "outputs": [
    {
     "name": "stdout",
     "output_type": "stream",
     "text": [
      "HELLO\n"
     ]
    }
   ],
   "source": [
    "# Question 4. Convert the string \"hello\" to uppercase\n",
    "print(\"hello\".upper())"
   ]
  },
  {
   "cell_type": "code",
   "execution_count": 5,
   "metadata": {},
   "outputs": [
    {
     "name": "stdout",
     "output_type": "stream",
     "text": [
      "I like orange\n"
     ]
    }
   ],
   "source": [
    "# Question 5. Replace the word \"apple\" with \"orange\" in the string \"I like apple\"\n",
    "print(\"I like apple\".replace(\"apple\", \"orange\"))"
   ]
  },
  {
   "cell_type": "code",
   "execution_count": 6,
   "metadata": {},
   "outputs": [
    {
     "name": "stdout",
     "output_type": "stream",
     "text": [
      "[1, 2, 3, 4, 5]\n"
     ]
    }
   ],
   "source": [
    "# Question 6. Create a list with numbers 1 to 5 and print it\n",
    "numbers = [1, 2, 3, 4, 5]\n",
    "print(numbers)"
   ]
  },
  {
   "cell_type": "code",
   "execution_count": 7,
   "metadata": {},
   "outputs": [
    {
     "name": "stdout",
     "output_type": "stream",
     "text": [
      "[1, 2, 3, 4, 10]\n"
     ]
    }
   ],
   "source": [
    "# Question 7. Append the number 10 to the list [1, 2, 3, 4]\n",
    "list1 = [1, 2, 3, 4]\n",
    "list1.append(10)\n",
    "print(list1)"
   ]
  },
  {
   "cell_type": "code",
   "execution_count": 8,
   "metadata": {},
   "outputs": [
    {
     "name": "stdout",
     "output_type": "stream",
     "text": [
      "[1, 2, 4, 5]\n"
     ]
    }
   ],
   "source": [
    "# Question 8. Remove the number 3 from the list [1, 2, 3, 4, 5]\n",
    "list2 = [1, 2, 3, 4, 5]\n",
    "list2.remove(3)\n",
    "print(list2)"
   ]
  },
  {
   "cell_type": "code",
   "execution_count": 9,
   "metadata": {},
   "outputs": [
    {
     "name": "stdout",
     "output_type": "stream",
     "text": [
      "b\n"
     ]
    }
   ],
   "source": [
    "# Question 9. Access the second element in the list ['a', 'b', 'c', 'd']\n",
    "print(['a', 'b', 'c', 'd'][1])"
   ]
  },
  {
   "cell_type": "code",
   "execution_count": 10,
   "metadata": {},
   "outputs": [
    {
     "name": "stdout",
     "output_type": "stream",
     "text": [
      "[50, 40, 30, 20, 10]\n"
     ]
    }
   ],
   "source": [
    "# Question 10. Reverse the list [10, 20, 30, 40, 50]\n",
    "list3 = [10, 20, 30, 40, 50]\n",
    "list3.reverse()\n",
    "print(list3)"
   ]
  },
  {
   "cell_type": "code",
   "execution_count": 11,
   "metadata": {},
   "outputs": [
    {
     "name": "stdout",
     "output_type": "stream",
     "text": [
      "(100, 200, 300)\n"
     ]
    }
   ],
   "source": [
    "# question 11. Create a tuple with the elements 100, 200, 300 and print it\n",
    "tuple1 = (100, 200, 300)\n",
    "print(tuple1)"
   ]
  },
  {
   "cell_type": "code",
   "execution_count": 12,
   "metadata": {},
   "outputs": [
    {
     "name": "stdout",
     "output_type": "stream",
     "text": [
      "blue\n"
     ]
    }
   ],
   "source": [
    "# Question 12. Access the second-to-last element of the tuple ('red', 'green', 'blue', 'yellow')\n",
    "print(('red', 'green', 'blue', 'yellow')[-2])"
   ]
  },
  {
   "cell_type": "code",
   "execution_count": 13,
   "metadata": {},
   "outputs": [
    {
     "name": "stdout",
     "output_type": "stream",
     "text": [
      "5\n"
     ]
    }
   ],
   "source": [
    "# Question 13. Find the minimum number in the tuple (10, 20, 5, 15)\n",
    "print(min((10, 20, 5, 15)))"
   ]
  },
  {
   "cell_type": "code",
   "execution_count": 14,
   "metadata": {},
   "outputs": [
    {
     "name": "stdout",
     "output_type": "stream",
     "text": [
      "1\n"
     ]
    }
   ],
   "source": [
    "#Question 14. Find the index of the element \"cat\" in the tuple ('dog', 'cat', 'rabbit')\n",
    "print(('dog', 'cat', 'rabbit').index(\"cat\"))"
   ]
  },
  {
   "cell_type": "code",
   "execution_count": 15,
   "metadata": {},
   "outputs": [
    {
     "name": "stdout",
     "output_type": "stream",
     "text": [
      "False\n"
     ]
    }
   ],
   "source": [
    "#Question 15. Create a tuple containing three different fruits and check if \"kiwi\" is in it\n",
    "fruits = (\"apple\", \"banana\", \"cherry\")\n",
    "print(\"kiwi\" in fruits)"
   ]
  },
  {
   "cell_type": "code",
   "execution_count": 16,
   "metadata": {},
   "outputs": [
    {
     "name": "stdout",
     "output_type": "stream",
     "text": [
      "{'c', 'a', 'b'}\n"
     ]
    }
   ],
   "source": [
    "# Question 16. Create a set with the elements 'a', 'b', 'c' and print it\n",
    "set1 = {'a', 'b', 'c'}\n",
    "print(set1)"
   ]
  },
  {
   "cell_type": "code",
   "execution_count": 17,
   "metadata": {},
   "outputs": [
    {
     "name": "stdout",
     "output_type": "stream",
     "text": [
      "set()\n"
     ]
    }
   ],
   "source": [
    "# Question 17. Clear all elements from the set {1, 2, 3, 4, 5}\n",
    "set2 = {1, 2, 3, 4, 5}\n",
    "set2.clear()\n",
    "print(set2)"
   ]
  },
  {
   "cell_type": "code",
   "execution_count": 18,
   "metadata": {},
   "outputs": [
    {
     "name": "stdout",
     "output_type": "stream",
     "text": [
      "{1, 2, 3}\n"
     ]
    }
   ],
   "source": [
    "# Question 18. Remove the element 4 from the set {1, 2, 3, 4}\n",
    "set3 = {1, 2, 3, 4}\n",
    "set3.remove(4)\n",
    "print(set3)"
   ]
  },
  {
   "cell_type": "code",
   "execution_count": 19,
   "metadata": {},
   "outputs": [
    {
     "name": "stdout",
     "output_type": "stream",
     "text": [
      "{1, 2, 3, 4, 5}\n"
     ]
    }
   ],
   "source": [
    "# question 19. Find the union of two sets {1, 2, 3} and {3, 4, 5}\n",
    "set4 = {1, 2, 3}\n",
    "set5 = {3, 4, 5}\n",
    "print(set4 | set5)"
   ]
  },
  {
   "cell_type": "code",
   "execution_count": 20,
   "metadata": {},
   "outputs": [
    {
     "name": "stdout",
     "output_type": "stream",
     "text": [
      "{2, 3}\n"
     ]
    }
   ],
   "source": [
    "# Question 20. Find the intersection of two sets {1, 2, 3} and {2, 3, 4}\n",
    "print({1, 2, 3} & {2, 3, 4})"
   ]
  },
  {
   "cell_type": "code",
   "execution_count": 21,
   "metadata": {},
   "outputs": [
    {
     "name": "stdout",
     "output_type": "stream",
     "text": [
      "{'name': 'Alice', 'age': 30, 'city': 'New York'}\n"
     ]
    }
   ],
   "source": [
    "# Question 21. Create a dictionary with the keys \"name\", \"age\", and \"city\", and print it\n",
    "dict1 = {\"name\": \"Alice\", \"age\": 30, \"city\": \"New York\"}\n",
    "print(dict1)"
   ]
  },
  {
   "cell_type": "code",
   "execution_count": 22,
   "metadata": {},
   "outputs": [
    {
     "name": "stdout",
     "output_type": "stream",
     "text": [
      "{'name': 'John', 'age': 25, 'country': 'USA'}\n"
     ]
    }
   ],
   "source": [
    "# Question 22. Add a new key-value pair \"country\": \"USA\" to the dictionary {'name': 'John', 'age': 25}\n",
    "dict2 = {'name': 'John', 'age': 25}\n",
    "dict2[\"country\"] = \"USA\"\n",
    "print(dict2)"
   ]
  },
  {
   "cell_type": "code",
   "execution_count": 23,
   "metadata": {},
   "outputs": [
    {
     "name": "stdout",
     "output_type": "stream",
     "text": [
      "Alice\n"
     ]
    }
   ],
   "source": [
    "# Question 23. Access the value associated with the key \"name\" in the dictionary {'name': 'Alice', 'age': 30}\n",
    "print({'name': 'Alice', 'age': 30}[\"name\"])"
   ]
  },
  {
   "cell_type": "code",
   "execution_count": 24,
   "metadata": {},
   "outputs": [
    {
     "name": "stdout",
     "output_type": "stream",
     "text": [
      "{'name': 'Bob', 'city': 'New York'}\n"
     ]
    }
   ],
   "source": [
    "#Question  24. Remove the key \"age\" from the dictionary {'name': 'Bob', 'age': 22, 'city': 'New York'}\n",
    "dict3 = {'name': 'Bob', 'age': 22, 'city': 'New York'}\n",
    "del dict3[\"age\"]\n",
    "print(dict3)"
   ]
  },
  {
   "cell_type": "code",
   "execution_count": 25,
   "metadata": {},
   "outputs": [
    {
     "name": "stdout",
     "output_type": "stream",
     "text": [
      "True\n"
     ]
    }
   ],
   "source": [
    "# Question 25. Check if the key \"city\" exists in the dictionary {'name': 'Alice', 'city': 'Paris'}\n",
    "dict4 = {'name': 'Alice', 'city': 'Paris'}\n",
    "print(\"city\" in dict4)"
   ]
  },
  {
   "cell_type": "code",
   "execution_count": 26,
   "metadata": {},
   "outputs": [
    {
     "name": "stdout",
     "output_type": "stream",
     "text": [
      "[1, 2, 3] (4, 5, 6) {'a': 7, 'b': 8}\n"
     ]
    }
   ],
   "source": [
    "#Question 26. Create a list, a tuple, and a dictionary, and print them all\n",
    "my_list = [1, 2, 3]\n",
    "my_tuple = (4, 5, 6)\n",
    "my_dict = {\"a\": 7, \"b\": 8}\n",
    "print(my_list, my_tuple, my_dict)"
   ]
  },
  {
   "cell_type": "code",
   "execution_count": 27,
   "metadata": {},
   "outputs": [
    {
     "name": "stdout",
     "output_type": "stream",
     "text": [
      "[28, 66, 68, 84, 93]\n"
     ]
    }
   ],
   "source": [
    "# Question 27. Create a list of 5 random numbers between 1 and 100, sort it in ascending order, and print the result\n",
    "import random\n",
    "random_list = random.sample(range(1, 101), 5)\n",
    "random_list.sort()\n",
    "print(random_list)"
   ]
  },
  {
   "cell_type": "code",
   "execution_count": 28,
   "metadata": {},
   "outputs": [
    {
     "name": "stdout",
     "output_type": "stream",
     "text": [
      "date\n"
     ]
    }
   ],
   "source": [
    "# Question 28. Create a list with strings and print the element at the third index\n",
    "str_list = [\"apple\", \"banana\", \"cherry\", \"date\", \"fig\"]\n",
    "print(str_list[3])"
   ]
  },
  {
   "cell_type": "code",
   "execution_count": 29,
   "metadata": {},
   "outputs": [
    {
     "name": "stdout",
     "output_type": "stream",
     "text": [
      "{'a': 1, 'b': 2, 'c': 3, 'd': 4}\n"
     ]
    }
   ],
   "source": [
    "# Question29. Combine two dictionaries into one and print the result\n",
    "dict5 = {\"a\": 1, \"b\": 2}\n",
    "dict6 = {\"c\": 3, \"d\": 4}\n",
    "combined_dict = {**dict5, **dict6}\n",
    "print(combined_dict)"
   ]
  },
  {
   "cell_type": "code",
   "execution_count": 30,
   "metadata": {},
   "outputs": [
    {
     "name": "stdout",
     "output_type": "stream",
     "text": [
      "{'dog', 'cat', 'rabbit'}\n"
     ]
    }
   ],
   "source": [
    "# Question 30. Convert a list of strings into a set\n",
    "str_list2 = [\"dog\", \"cat\", \"rabbit\", \"dog\"]\n",
    "print(set(str_list2))"
   ]
  },
  {
   "cell_type": "code",
   "execution_count": null,
   "metadata": {},
   "outputs": [],
   "source": []
  }
 ],
 "metadata": {
  "kernelspec": {
   "display_name": "Python 3",
   "language": "python",
   "name": "python3"
  },
  "language_info": {
   "codemirror_mode": {
    "name": "ipython",
    "version": 3
   },
   "file_extension": ".py",
   "mimetype": "text/x-python",
   "name": "python",
   "nbconvert_exporter": "python",
   "pygments_lexer": "ipython3",
   "version": "3.13.2"
  }
 },
 "nbformat": 4,
 "nbformat_minor": 2
}
